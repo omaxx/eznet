{
 "cells": [
  {
   "cell_type": "code",
   "execution_count": 1,
   "metadata": {},
   "outputs": [],
   "source": [
    "PROXY = {\n",
    "    \"host\": \"172.31.0.8\",\n",
    "}\n",
    "DEV_1 = {\n",
    "    \"host\": \"192.168.0.1\",\n",
    "    \"username\": \"jnpr\",\n",
    "    \"password\": \"Juniper#123\",\n",
    "}\n",
    "DEV_2 = {\n",
    "    \"host\": \"192.168.0.2\",\n",
    "    \"username\": \"jnpr\",\n",
    "    \"password\": \"Juniper#123\",\n",
    "}"
   ]
  },
  {
   "cell_type": "code",
   "execution_count": 2,
   "metadata": {},
   "outputs": [],
   "source": [
    "import asyncio\n",
    "import asyncssh"
   ]
  },
  {
   "cell_type": "code",
   "execution_count": null,
   "metadata": {},
   "outputs": [],
   "source": [
    "proxy = await asyncssh.connect(**PROXY)\n",
    "dev_1, dev_2 = await asyncio.gather(\n",
    "    asyncssh.connect(**DEV_1, tunnel=proxy),\n",
    "    asyncssh.connect(**DEV_2, tunnel=proxy),\n",
    ")\n",
    "\n",
    "cmd = \"show system info\"\n",
    "for result in await asyncio.gather(\n",
    "    dev_1.run(cmd),\n",
    "    dev_2.run(cmd),\n",
    "):\n",
    "    print(result.output)\n",
    "\n",
    "dev_1.disconnect()\n",
    "dev_2.disconnect()\n",
    "proxy.disconnect()"
   ]
  },
  {
   "cell_type": "code",
   "execution_count": null,
   "metadata": {},
   "outputs": [],
   "source": [
    "async with asyncssh.connect(**PROXY) as proxy:\n",
    "    async with (\n",
    "        asyncssh.connect(**DEV_1, tunnel=proxy) as dev_1,\n",
    "        asyncssh.connect(**DEV_1, tunnel=proxy) as dev_2,\n",
    "    ):\n",
    "        cmd = \"show system info\"\n",
    "        for result in await asyncio.gather(\n",
    "            dev_1.run(cmd),\n",
    "            dev_2.run(cmd),\n",
    "        ):\n",
    "            print(result.output)\n",
    "        "
   ]
  },
  {
   "cell_type": "code",
   "execution_count": null,
   "metadata": {},
   "outputs": [],
   "source": [
    "async def collect(**kwargs):\n",
    "    async with asyncssh.connect(**kwargs) as dev:\n",
    "        cmd = \"show system info\"\n",
    "        return await dev_1.run(cmd)\n",
    "\n",
    "async with asyncssh.connect(**PROXY) as proxy:\n",
    "    for result in await asyncio.gather(\n",
    "        collect(**DEV_1, tunnel=proxy),\n",
    "        collect(**DEV_2, tunnel=proxy),\n",
    "    ):\n",
    "        print(result.output)\n"
   ]
  }
 ],
 "metadata": {
  "kernelspec": {
   "display_name": ".venv",
   "language": "python",
   "name": "python3"
  },
  "language_info": {
   "codemirror_mode": {
    "name": "ipython",
    "version": 3
   },
   "file_extension": ".py",
   "mimetype": "text/x-python",
   "name": "python",
   "nbconvert_exporter": "python",
   "pygments_lexer": "ipython3",
   "version": "3.11.9"
  }
 },
 "nbformat": 4,
 "nbformat_minor": 2
}
